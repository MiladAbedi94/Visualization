{
 "cells": [
  {
   "cell_type": "code",
   "execution_count": null,
   "metadata": {},
   "outputs": [],
   "source": [
    "%%bash\n",
    "if [ ! -d \"DataSet\" ] ; then \n",
    "    mkdir \"DataSet\"\n",
    "    cd \"DataSet\"\n",
    "    curl -O \"http://data.insideairbnb.com/united-states/ny/new-york-city/2019-06-02/data/{listings.csv.gz,sreviews.csv.gz}\"\n",
    "    gunzip *\n",
    "fi"
   ]
  },
  {
   "cell_type": "code",
   "execution_count": null,
   "metadata": {},
   "outputs": [],
   "source": [
    "import pandas as pd\n",
    "import numpy as np\n",
    "import matplotlib.pyplot as plt\n",
    "import pyspark\n",
    "conf = pyspark.SparkConf().setMaster(\"local[3]\").setAppName(\"Airbnb\")\n",
    "sc = pyspark.SparkContext(conf = conf)\n",
    "spark=pyspark.sql.SparkSession(sc)"
   ]
  },
  {
   "cell_type": "code",
   "execution_count": null,
   "metadata": {},
   "outputs": [],
   "source": [
    "from pyspark.sql.types import DoubleType,IntegerType,StringType,ShortType,DateType\n",
    "import pyspark.sql.functions as F\n",
    "from nltk.sentiment.vader import SentimentIntensityAnalyzer\n",
    "from nltk import tokenize\n",
    "\n",
    "def PercentStrip(text):\n",
    "    try:\n",
    "        result=text.rstrip(\"%\")\n",
    "    except:\n",
    "        result=None\n",
    "    return result\n",
    "udf_PercentStrip=spark.udf.register(\"PercentStrip\", PercentStrip, StringType())\n",
    "\n",
    "\n",
    "def DollarSkip(text):\n",
    "    try:\n",
    "        result=text.lstrip(\"$\").replace(\",\",\"\")\n",
    "    except:\n",
    "        result=None\n",
    "    return result\n",
    "udf_DollarSkip=spark.udf.register(\"DollarSkip\", DollarSkip, StringType())\n",
    "\n",
    "\n",
    "\n",
    "def DropTextNA(text):\n",
    "    return None if text==\"N/A\" else text\n",
    "udf_DropTextNA=spark.udf.register(\"DropTextNA\", DropTextNA, StringType())\n",
    "\n",
    "def NumAmenities(text):\n",
    "    return int(len(text.split(\",\"))/2)\n",
    "udf_NumAmenities=spark.udf.register(\"NumAmenities\", NumAmenities, IntegerType())\n",
    "\n",
    "\n",
    "\n",
    "sid = SentimentIntensityAnalyzer()\n",
    "def Sentiment_Score(text):\n",
    "    return sid.polarity_scores(text)[\"compound\"]\n",
    "udf_SC=spark.udf.register(\"Sentiment_Score_Function\", Sentiment_Score, DoubleType())"
   ]
  },
  {
   "cell_type": "code",
   "execution_count": null,
   "metadata": {},
   "outputs": [],
   "source": [
    "df_Listings=spark.read.option(\"escape\",'\"').option(\"multiline\",True).csv(\"DataSet/listings.csv\",header=True)[\"id\",\"host_is_superhost\",\"host_has_profile_pic\",\"host_identity_verified\",\"latitude\",\"longitude\",\"is_location_exact\",\"price\",'review_scores_rating','reviews_per_month',\"host_response_time\",\"host_response_rate\",\"neighbourhood\",\"zipcode\",\"room_type\",\"accommodates\",\"bathrooms\",\"bedrooms\",\"beds\",\"amenities\"]\n",
    "df_Listings=df_Listings\\\n",
    "    .withColumn(\"id\",df_Listings.id.cast(IntegerType()))\\\n",
    "    .withColumn(\"host_is_superhost\",df_Listings.host_is_superhost==\"t\")\\\n",
    "    .withColumn(\"host_has_profile_pic\",df_Listings.host_has_profile_pic==\"t\")\\\n",
    "    .withColumn(\"host_identity_verified\",df_Listings.host_identity_verified==\"t\")\\\n",
    "    .withColumn(\"latitude\",df_Listings.latitude.cast(DoubleType()))\\\n",
    "    .withColumn(\"longitude\",df_Listings.longitude.cast(DoubleType()))\\\n",
    "    .withColumn(\"is_location_exact\",df_Listings.is_location_exact==\"t\")\\\n",
    "    .withColumn(\"price\",udf_DollarSkip(df_Listings.price).cast(DoubleType()))\\\n",
    "    .withColumn(\"review_scores_rating\",df_Listings.review_scores_rating.cast(ShortType()))\\\n",
    "    .withColumn(\"reviews_per_month\",df_Listings.reviews_per_month.cast(DoubleType()))\\\n",
    "    .withColumnRenamed(\"id\",\"Listing_ID\")\\\n",
    "    .withColumn(\"host_response_rate\",udf_PercentStrip(df_Listings.host_response_rate).cast(IntegerType()))\\\n",
    "    .withColumn(\"zipcode\",df_Listings.zipcode.cast(IntegerType()))\\\n",
    "    .withColumn(\"host_response_time\",udf_DropTextNA(df_Listings.host_response_time))\\\n",
    "    .withColumn(\"accommodates\",df_Listings.accommodates.cast(IntegerType()))\\\n",
    "    .withColumn(\"bathrooms\",df_Listings.bathrooms.cast(IntegerType()))\\\n",
    "    .withColumn(\"bedrooms\",df_Listings.bedrooms.cast(IntegerType()))\\\n",
    "    .withColumn(\"beds\",df_Listings.beds.cast(IntegerType())).na.drop(subset=\"price\")\\\n",
    "    .withColumn(\"amenities\",udf_NumAmenities(df_Listings.amenities))\n",
    "\n"
   ]
  },
  {
   "cell_type": "code",
   "execution_count": null,
   "metadata": {},
   "outputs": [],
   "source": [
    "df_Reviews=spark.read.csv(\"DataSet/reviews.csv\",header=True).na.drop()\n",
    "df_Reviews=df_Reviews.withColumn(\"date\",df_Reviews[\"date\"].cast(DateType()))\\\n",
    "    .withColumn(\"listing_id\",df_Reviews.listing_id.cast(IntegerType()))\\\n",
    "    .withColumn(\"Sentiment_Score\",udf_SC(df_Reviews[\"comments\"]))\\\n",
    "    .withColumn(\"Comment_Length\",F.length(df_Reviews[\"comments\"]))\\\n",
    "    .drop(*[\"id\",\"reviewer_id\",\"comments\"]).na.drop()\\\n",
    "    .selectExpr(\"listing_id as Listing_ID\", \"date as Date\",\"Sentiment_Score\",\"Comment_Length\")\\\n",
    "    .groupby(\"Listing_ID\").agg({\"Sentiment_Score\":\"mean\",\"Comment_Length\":\"mean\"})"
   ]
  },
  {
   "cell_type": "code",
   "execution_count": null,
   "metadata": {},
   "outputs": [],
   "source": [
    "Joint_Set=df_Listings.join(df_Reviews,\"Listing_ID\",\"inner\")\n",
    "DataFrame=Joint_Set.toPandas()\n",
    "DataFrame.to_pickle(\"DataSet/DataSet.pkl\")\n",
    "DataFrame.to_feather(\"DataSet/DataSet.feather\")\n",
    "sc.stop()"
   ]
  }
 ],
 "metadata": {
  "kernelspec": {
   "display_name": "Python 3",
   "language": "python",
   "name": "python3"
  },
  "language_info": {
   "codemirror_mode": {
    "name": "ipython",
    "version": 3
   },
   "file_extension": ".py",
   "mimetype": "text/x-python",
   "name": "python",
   "nbconvert_exporter": "python",
   "pygments_lexer": "ipython3",
   "version": "3.6.8"
  }
 },
 "nbformat": 4,
 "nbformat_minor": 2
}
